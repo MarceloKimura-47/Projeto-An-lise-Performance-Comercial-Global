{
 "cells": [
  {
   "cell_type": "code",
   "execution_count": 2,
   "id": "454cd48a-13ba-45a9-92d0-225883bc7363",
   "metadata": {},
   "outputs": [],
   "source": [
    "import pandas as pd"
   ]
  },
  {
   "cell_type": "code",
   "execution_count": 3,
   "id": "1d6fe049-8c4e-404a-b344-6520b3ffe96b",
   "metadata": {},
   "outputs": [],
   "source": [
    "lista_caminhos = ['C:/Users/Kimura/Desktop/Projetos/Analise_Performance_Comercial_Global/2_silver/One_Big_Table.parquet',\n",
    "                  'C:/Users/Kimura/Desktop/Projetos/Analise_Performance_Comercial_Global/2_silver/One_Big_Table_02.parquet']"
   ]
  },
  {
   "cell_type": "code",
   "execution_count": 4,
   "id": "8a67a77e-2d51-4885-aeb1-de2cd70a4a6f",
   "metadata": {},
   "outputs": [],
   "source": [
    "df_obt_vendas = pd.read_parquet(lista_caminhos[0])\n",
    "df_obt_devolucao = pd.read_parquet(lista_caminhos[1])"
   ]
  },
  {
   "cell_type": "markdown",
   "id": "f4f8fef4-37e5-4816-8db4-5ae1a3e09d27",
   "metadata": {},
   "source": [
    "### Criação das tabelas normalizadas\n",
    "Iremos agora pegar a tabela OBT e criar as demais tabelas padronizadas e com algumas métricas."
   ]
  },
  {
   "cell_type": "code",
   "execution_count": 6,
   "id": "52803767-eea0-4ce9-9116-eb0a6a1c4c30",
   "metadata": {},
   "outputs": [],
   "source": [
    "# Dimensão Clientes\n",
    "dim_cliente = df_obt_vendas[['id_cliente', 'primeiro_nome', 'sobrenome', 'email', 'genero', \n",
    "                  'data_nascimento', 'estado_civil', 'num_filhos', 'nivel_escolar']].drop_duplicates()"
   ]
  },
  {
   "cell_type": "code",
   "execution_count": 7,
   "id": "8bd35d97-80b0-48fb-9851-5f3ac7f44026",
   "metadata": {},
   "outputs": [],
   "source": [
    "# Dimensão Produtos\n",
    "dim_produto = df_obt_vendas[['sku', 'produto', 'marca', 'tipo_do_produto']].drop_duplicates()"
   ]
  },
  {
   "cell_type": "code",
   "execution_count": 8,
   "id": "26e7b159-e448-420d-b8f5-a3a79ffcb97a",
   "metadata": {},
   "outputs": [],
   "source": [
    "# Dimensão Lojas\n",
    "dim_loja = df_obt_vendas[['id_loja', 'nome_da_loja', 'quantidade_colaboradores', 'tipo', \n",
    "               'gerente_loja', 'documento_gerente', 'id_localidade','pais','continente']].drop_duplicates()"
   ]
  },
  {
   "cell_type": "code",
   "execution_count": 9,
   "id": "8e504d0c-3f87-4437-9f22-73b3dec65cc8",
   "metadata": {},
   "outputs": [],
   "source": [
    "# Algumas métricas para adicionar na tabela fato\n",
    "\n",
    "df_obt_vendas['receita'] = df_obt_vendas['preco_unitario'] * df_obt_vendas['qtd_vendida']\n",
    "df_obt_vendas['custo'] = df_obt_vendas['custo_unitario'] * df_obt_vendas['qtd_vendida']\n",
    "df_obt_vendas['lucro'] = df_obt_vendas['receita'] - df_obt_vendas['custo']"
   ]
  },
  {
   "cell_type": "code",
   "execution_count": 10,
   "id": "1f5f641f-2306-473b-a3ac-fa1b670eb0b6",
   "metadata": {},
   "outputs": [],
   "source": [
    "# Fato Vendas\n",
    "\n",
    "fato_vendas = df_obt_vendas[['ordem_de_compra', 'data_da_venda', 'id_cliente', 'id_loja', 'sku',\n",
    "                  'qtd_vendida', 'preco_unitario', 'custo_unitario', 'receita', 'lucro']]"
   ]
  },
  {
   "cell_type": "code",
   "execution_count": 11,
   "id": "d22e3055-413a-4132-aaa6-fc8a38e74b1a",
   "metadata": {},
   "outputs": [],
   "source": [
    "# Dimensão Calendário\n",
    "\n",
    "dim_tempo = df_obt_vendas[['data_da_venda']].drop_duplicates()\n",
    "\n",
    "dim_tempo['ano'] = dim_tempo['data_da_venda'].dt.year\n",
    "dim_tempo['mes'] = dim_tempo['data_da_venda'].dt.month\n",
    "dim_tempo['dia'] = dim_tempo['data_da_venda'].dt.day\n",
    "dim_tempo['dia_semana'] = dim_tempo['data_da_venda'].dt.day_name()\n",
    "dim_tempo['trimestre'] = dim_tempo['data_da_venda'].dt.quarter"
   ]
  },
  {
   "cell_type": "code",
   "execution_count": 12,
   "id": "770e3df1-8cbd-4c0d-990f-258091670e2f",
   "metadata": {},
   "outputs": [
    {
     "name": "stdout",
     "output_type": "stream",
     "text": [
      "<class 'pandas.core.frame.DataFrame'>\n",
      "RangeIndex: 1809 entries, 0 to 1808\n",
      "Data columns (total 18 columns):\n",
      " #   Column                    Non-Null Count  Dtype         \n",
      "---  ------                    --------------  -----         \n",
      " 0   data_devolucao            1809 non-null   datetime64[ns]\n",
      " 1   id_loja                   1809 non-null   int64         \n",
      " 2   sku                       1809 non-null   object        \n",
      " 3   qtd_devolvida             1809 non-null   int64         \n",
      " 4   motivo_devolucao          1809 non-null   object        \n",
      " 5   produto                   1809 non-null   object        \n",
      " 6   marca                     1809 non-null   object        \n",
      " 7   tipo_do_produto           1809 non-null   object        \n",
      " 8   preco_unitario            1809 non-null   float64       \n",
      " 9   custo_unitario            1809 non-null   float64       \n",
      " 10  nome_da_loja              1809 non-null   object        \n",
      " 11  quantidade_colaboradores  1809 non-null   int64         \n",
      " 12  tipo                      1809 non-null   object        \n",
      " 13  gerente_loja              1809 non-null   object        \n",
      " 14  documento_gerente         1809 non-null   object        \n",
      " 15  id_localidade             1809 non-null   int64         \n",
      " 16  pais                      1809 non-null   object        \n",
      " 17  continente                1809 non-null   object        \n",
      "dtypes: datetime64[ns](1), float64(2), int64(4), object(11)\n",
      "memory usage: 254.5+ KB\n"
     ]
    }
   ],
   "source": [
    "df_obt_devolucao.info()"
   ]
  },
  {
   "cell_type": "code",
   "execution_count": 13,
   "id": "68dda62f-4cba-432c-a998-55e164a27300",
   "metadata": {},
   "outputs": [],
   "source": [
    "# Criando coluna com o valor da devolução\n",
    "df_obt_devolucao['valor_devolvido'] = df_obt_devolucao['preco_unitario'] * df_obt_devolucao['qtd_devolvida']\n"
   ]
  },
  {
   "cell_type": "code",
   "execution_count": 14,
   "id": "b9feee2b-6d7f-4df9-aa1f-34e770c7edc9",
   "metadata": {},
   "outputs": [],
   "source": [
    "# Fato devolução\n",
    "\n",
    "fato_devolucao = df_obt_devolucao[['data_devolucao', 'id_loja', 'sku', 'qtd_devolvida','preco_unitario', 'valor_devolvido','produto','marca','tipo_do_produto']]"
   ]
  },
  {
   "cell_type": "markdown",
   "id": "dbe760c8-e018-495d-926b-d695805a56a4",
   "metadata": {},
   "source": [
    "### Resultado da normalização:\n",
    "\n",
    "Conseguimos criar as 2 tabelas fato e as 3 tabelas dimensões. De bônus ainda entregamos uma tabela dim_calendario.\n",
    "\n",
    "- fato_vendas\n",
    "- fato_devolucao\n",
    "- dim_produto\n",
    "- dim_clientes\n",
    "- dim_lojas\n",
    "- dim_calendario"
   ]
  },
  {
   "cell_type": "code",
   "execution_count": null,
   "id": "14b824f8-9619-4934-a71b-42c3a305c832",
   "metadata": {},
   "outputs": [],
   "source": [
    "# Exportando tabelas formatadas para a camada gold.\n",
    "\n",
    "dim_cliente.to_parquet('C:/Users/Kimura/Desktop/Projetos/Analise_Performance_Comercial_Global/3_gold/dim_clientes.parquet')\n",
    "dim_loja.to_parquet('C:/Users/Kimura/Desktop/Projetos/Analise_Performance_Comercial_Global/3_gold/dim_loja.parquet')\n",
    "dim_produto.to_parquet('C:/Users/Kimura/Desktop/Projetos/Analise_Performance_Comercial_Global/3_gold/dim_produtos.parquet')\n",
    "dim_tempo.to_parquet('C:/Users/Kimura/Desktop/Projetos/Analise_Performance_Comercial_Global/3_gold/dim_tempo.parquet')\n",
    "fato_devolucao.to_parquet('C:/Users/Kimura/Desktop/Projetos/Analise_Performance_Comercial_Global/3_gold/fato_devolucao.parquet')\n",
    "fato_vendas.to_parquet('C:/Users/Kimura/Desktop/Projetos/Analise_Performance_Comercial_Global/3_gold/fato_vendas.parquet')"
   ]
  }
 ],
 "metadata": {
  "kernelspec": {
   "display_name": "Python [conda env:base] *",
   "language": "python",
   "name": "conda-base-py"
  },
  "language_info": {
   "codemirror_mode": {
    "name": "ipython",
    "version": 3
   },
   "file_extension": ".py",
   "mimetype": "text/x-python",
   "name": "python",
   "nbconvert_exporter": "python",
   "pygments_lexer": "ipython3",
   "version": "3.12.7"
  }
 },
 "nbformat": 4,
 "nbformat_minor": 5
}
